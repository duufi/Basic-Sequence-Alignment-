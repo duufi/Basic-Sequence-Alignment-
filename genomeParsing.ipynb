{
 "cells": [
  {
   "cell_type": "markdown",
   "metadata": {},
   "source": [
    "<h1>Handling Seuences with BioPython - Alignment</h1>\n",
    "<p>The question I am attempting to answer is do two geographically distinct strains of the SARS-2 Virus differ in gene expression.</p>\n",
    "<p>Comparing two geographically unique genomes of the same species can provide insight into rate of mutation and can potentially provide insight into the different infection rates among geogrpahically distinct communities.</p>"
   ]
  },
  {
   "cell_type": "code",
   "execution_count": 10,
   "metadata": {},
   "outputs": [],
   "source": [
    "from Bio import SeqIO\n",
    "from Bio.SeqRecord import SeqRecord\n",
    "from Bio.Seq import Seq\n",
    "from Bio import pairwise2"
   ]
  },
  {
   "cell_type": "code",
   "execution_count": 4,
   "metadata": {},
   "outputs": [],
   "source": [
    "with open(\"covidWuhan.fasta\", 'w') as aa_fa:\n",
    "    for dna_record in SeqIO.parse(\"covidGenome1.fasta\", 'fasta'):\n",
    "        # use both fwd and rev sequences\n",
    "        dna_seqs = [dna_record.seq, dna_record.seq.reverse_complement()]\n",
    "\n",
    "        # generate all translation frames\n",
    "        aa_seqs = (s[i:].translate(to_stop=True) for i in range(3) for s in dna_seqs)\n",
    "\n",
    "        # select the longest one\n",
    "        max_aa = max(aa_seqs, key=len)\n",
    "\n",
    "        # write new record\n",
    "        aa_record = SeqRecord(max_aa, id=dna_record.id, description=\"translated sequence\")\n",
    "        SeqIO.write(aa_record, aa_fa, 'fasta')"
   ]
  },
  {
   "cell_type": "code",
   "execution_count": 5,
   "metadata": {},
   "outputs": [],
   "source": [
    "with open(\"covidJapan.fasta\", 'w') as aa_fa:\n",
    "    for dna_record in SeqIO.parse(\"covidGenome2.fasta\", 'fasta'):\n",
    "        # use both fwd and rev sequences\n",
    "        dna_seqs = [dna_record.seq, dna_record.seq.reverse_complement()]\n",
    "\n",
    "        # generate all translation frames\n",
    "        aa_seqs = (s[i:].translate(to_stop=True) for i in range(3) for s in dna_seqs)\n",
    "\n",
    "        # select the longest one\n",
    "        max_aa = max(aa_seqs, key=len)\n",
    "\n",
    "        # write new record\n",
    "        aa_record = SeqRecord(max_aa, id=dna_record.id, description=\"translated sequence\")\n",
    "        SeqIO.write(aa_record, aa_fa, 'fasta')"
   ]
  },
  {
   "cell_type": "markdown",
   "metadata": {},
   "source": [
    "<p>Note that the genomes below are only portions fo the transcribed genome<p>"
   ]
  },
  {
   "cell_type": "code",
   "execution_count": 11,
   "metadata": {},
   "outputs": [],
   "source": [
    "japanGenome = \"KVYTFPGNKPTNFRSLVDLFSKRTLKSVWLSLGCMLSALTQYN\"\n",
    "wuhanGenome = \"LKVYTFPGNKPTNFRSLVDLFSKRTLKSVWLSLGCMLSALTQYN\"\n",
    "alignments = pairwise2.align.globalxx(japanGenome, wuhanGenome)"
   ]
  },
  {
   "cell_type": "code",
   "execution_count": 12,
   "metadata": {},
   "outputs": [
    {
     "data": {
      "text/plain": [
       "[('-KVYTFPGNKPTNFRSLVDLFSKRTLKSVWLSLGCMLSALTQYN',\n",
       "  'LKVYTFPGNKPTNFRSLVDLFSKRTLKSVWLSLGCMLSALTQYN',\n",
       "  43.0,\n",
       "  0,\n",
       "  44)]"
      ]
     },
     "execution_count": 12,
     "metadata": {},
     "output_type": "execute_result"
    }
   ],
   "source": [
    "alignments"
   ]
  },
  {
   "cell_type": "code",
   "execution_count": 13,
   "metadata": {},
   "outputs": [
    {
     "name": "stdout",
     "output_type": "stream",
     "text": [
      "('-KVYTFPGNKPTNFRSLVDLFSKRTLKSVWLSLGCMLSALTQYN', 'LKVYTFPGNKPTNFRSLVDLFSKRTLKSVWLSLGCMLSALTQYN', 43.0, 0, 44)\n"
     ]
    }
   ],
   "source": [
    "for alignment in alignments: \n",
    "    print(alignment)"
   ]
  }
 ],
 "metadata": {
  "kernelspec": {
   "display_name": "Python 3",
   "language": "python",
   "name": "python3"
  },
  "language_info": {
   "codemirror_mode": {
    "name": "ipython",
    "version": 3
   },
   "file_extension": ".py",
   "mimetype": "text/x-python",
   "name": "python",
   "nbconvert_exporter": "python",
   "pygments_lexer": "ipython3",
   "version": "3.7.6"
  }
 },
 "nbformat": 4,
 "nbformat_minor": 4
}
